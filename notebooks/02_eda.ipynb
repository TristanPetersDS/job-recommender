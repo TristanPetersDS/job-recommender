{
 "cells": [
  {
   "cell_type": "markdown",
   "id": "9e1befed-a51c-4873-a50a-7fe50aff0db9",
   "metadata": {},
   "source": [
    "# **Exploratory Data Analysis**"
   ]
  },
  {
   "cell_type": "markdown",
   "id": "19f05ec8-0573-4d89-9178-fcd540e10462",
   "metadata": {},
   "source": [
    "## **1. Introduction**"
   ]
  },
  {
   "cell_type": "markdown",
   "id": "cdde0d2d-bc84-411d-a147-4f135f1ba518",
   "metadata": {},
   "source": [
    "### **Notebook Overview**"
   ]
  },
  {
   "cell_type": "markdown",
   "id": "b363a020-dbf9-4a10-a159-77986db82822",
   "metadata": {},
   "source": [
    "---"
   ]
  },
  {
   "cell_type": "markdown",
   "id": "00162111-2529-4c8f-b3a0-224a5513fcec",
   "metadata": {},
   "source": [
    "### **EDA Objectives**"
   ]
  },
  {
   "cell_type": "markdown",
   "id": "ec08fe1d-bade-4d03-8062-5ae04c1fcfbc",
   "metadata": {},
   "source": []
  },
  {
   "cell_type": "markdown",
   "id": "64a7620c-f7e2-455b-b2c8-38c8e6da8fc8",
   "metadata": {},
   "source": [
    "---"
   ]
  },
  {
   "cell_type": "markdown",
   "id": "0e348488-7056-4b87-8d78-109d93ef8324",
   "metadata": {},
   "source": [
    "### **Key Questions to Explore**"
   ]
  },
  {
   "cell_type": "markdown",
   "id": "c30e1745-50ae-4c19-8ecf-ba95fc4f3b66",
   "metadata": {},
   "source": []
  },
  {
   "cell_type": "markdown",
   "id": "64da46af-93fb-42f4-9660-81e8e14c40fa",
   "metadata": {},
   "source": [
    "---"
   ]
  },
  {
   "cell_type": "markdown",
   "id": "dad531fe-fc0b-4d68-8552-99d5239c6443",
   "metadata": {},
   "source": [
    "### **Importing Packages and Configuring Directory Pathing**"
   ]
  },
  {
   "cell_type": "code",
   "execution_count": null,
   "id": "5c844835-2e39-432d-b107-1531e48e5a83",
   "metadata": {},
   "outputs": [],
   "source": [
    "# REMOVE THIS BEFORE SUBMISSION\n",
    "%load_ext autoreload\n",
    "%autoreload 2"
   ]
  },
  {
   "cell_type": "code",
   "execution_count": null,
   "id": "3cd6b9a6-40e4-44e7-a01b-23748dc00d33",
   "metadata": {},
   "outputs": [],
   "source": [
    "import pandas as pd\n",
    "import numpy as np\n",
    "import matplotlib.pyplot as plt\n",
    "import seaborn as sns\n",
    "\n",
    "from joblib import Parallel, delayed\n",
    "\n",
    "import warnings\n",
    "warnings.simplefilter(action='ignore', category=UserWarning)\n",
    "warnings.simplefilter(action='ignore', category=FutureWarning)"
   ]
  },
  {
   "cell_type": "code",
   "execution_count": null,
   "id": "bc03a6f7-fdc1-4f90-b308-bb3f672acddd",
   "metadata": {},
   "outputs": [],
   "source": [
    "from jobrec import config\n",
    "from jobrec import visualizer"
   ]
  },
  {
   "cell_type": "code",
   "execution_count": null,
   "id": "15fdb56b-2b17-45e5-9d51-40c03c72e148",
   "metadata": {},
   "outputs": [],
   "source": [
    "# for other theme, please run: mpl.pyplot.style.available\n",
    "PLOT_PALETTE = 'tableau-colorblind10'\n",
    "# for other color map, please run: mpl.pyplot.colormaps()\n",
    "WORDCLOUD_COLOR_MAP = 'tab10_r'"
   ]
  },
  {
   "cell_type": "markdown",
   "id": "a394074d-e664-4ff9-b5c6-d9d473bdaabc",
   "metadata": {},
   "source": [
    "---"
   ]
  },
  {
   "cell_type": "markdown",
   "id": "9014c82f-3c58-42d9-b40b-0b37e6802687",
   "metadata": {},
   "source": [
    "## **2. Data Overview**"
   ]
  },
  {
   "cell_type": "markdown",
   "id": "114513ba-ac8d-4004-a5d9-2c18c8152f2e",
   "metadata": {},
   "source": []
  },
  {
   "cell_type": "markdown",
   "id": "3cd1c7b0-c85e-456b-8ee2-188508497e07",
   "metadata": {},
   "source": [
    "---"
   ]
  },
  {
   "cell_type": "markdown",
   "id": "16459045-0163-4eac-ba2e-eba27b800e7f",
   "metadata": {},
   "source": [
    "## **3. Job Listings EDA**"
   ]
  },
  {
   "cell_type": "code",
   "execution_count": null,
   "id": "39fc21e3-6f2c-434f-b5aa-f64589af334b",
   "metadata": {},
   "outputs": [],
   "source": []
  },
  {
   "cell_type": "markdown",
   "id": "cd65586d-54b8-4cb9-8757-1c90cf476ac6",
   "metadata": {},
   "source": [
    "---"
   ]
  },
  {
   "cell_type": "markdown",
   "id": "bfd96ae4-0638-4170-93a3-141566cf80c1",
   "metadata": {},
   "source": [
    "## **4. Resume EDA**"
   ]
  },
  {
   "cell_type": "code",
   "execution_count": null,
   "id": "bee980c2-d1ab-48b8-a332-de6e3b2d2758",
   "metadata": {},
   "outputs": [],
   "source": [
    "# Use all cores\n",
    "results = Parallel(n_jobs=-1)(\n",
    "    delayed(generate_wordcloud_from_df)(df_categories[i], categories[i])\n",
    "    for i in range(len(categories))\n",
    ")"
   ]
  },
  {
   "cell_type": "code",
   "execution_count": null,
   "id": "b8b7c7de-93db-41e5-8b7b-b9d8fc1ffb55",
   "metadata": {},
   "outputs": [],
   "source": [
    "resume_df['Category'].value_counts().sort_index().plot(kind='bar', figsize=(12, 6))\n",
    "plt.show()"
   ]
  },
  {
   "cell_type": "code",
   "execution_count": null,
   "id": "d392a7dd-109e-46c4-825e-b430a612f94b",
   "metadata": {},
   "outputs": [],
   "source": [
    "plt.figure(figsize=(32, 28))\n",
    "\n",
    "for i, (category, wc) in enumerate(results):\n",
    "    plt.subplot(6, 4, i + 1).set_title(category)\n",
    "    plt.imshow(wc)\n",
    "    plt.axis('off')\n",
    "\n",
    "plt.tight_layout()\n",
    "plt.show()"
   ]
  },
  {
   "cell_type": "code",
   "execution_count": null,
   "id": "22a9ef75-f29e-47ba-a786-5b86a0679933",
   "metadata": {},
   "outputs": [],
   "source": [
    "fig = plt.figure(figsize=(32, 64))\n",
    "\n",
    "for i, category in enumerate(categories):\n",
    "    wf = wordfreq(df_categories[i])\n",
    "\n",
    "    fig.add_subplot(12, 2, i + 1).set_title(category)\n",
    "    plt.bar(wf['Word'], wf['Frequency'])\n",
    "    plt.ylim(0, 1500)\n",
    "\n",
    "plt.show()"
   ]
  },
  {
   "cell_type": "markdown",
   "id": "6751f684-248b-4977-84d9-c79b5231bf90",
   "metadata": {},
   "source": [
    "---"
   ]
  },
  {
   "cell_type": "markdown",
   "id": "6edac1dd-5ab9-4496-95c2-8015b493eed2",
   "metadata": {},
   "source": [
    "## **5. Comparison**"
   ]
  },
  {
   "cell_type": "code",
   "execution_count": null,
   "id": "95d9e8d2-dbce-4d12-8d18-591df1faafc6",
   "metadata": {},
   "outputs": [],
   "source": []
  },
  {
   "cell_type": "markdown",
   "id": "63ca8dd7-ca7f-4c31-8ffb-b3011f3f2e66",
   "metadata": {},
   "source": [
    "---"
   ]
  },
  {
   "cell_type": "markdown",
   "id": "f3829d02-a1e5-4d2a-9670-4fc6a58dcadd",
   "metadata": {},
   "source": [
    "## **6. Conclusion and Insights**"
   ]
  },
  {
   "cell_type": "markdown",
   "id": "7045122b-c1ba-415b-b25b-9b4d114e4c6c",
   "metadata": {},
   "source": []
  }
 ],
 "metadata": {
  "kernelspec": {
   "display_name": "Python 3 (ipykernel)",
   "language": "python",
   "name": "python3"
  },
  "language_info": {
   "codemirror_mode": {
    "name": "ipython",
    "version": 3
   },
   "file_extension": ".py",
   "mimetype": "text/x-python",
   "name": "python",
   "nbconvert_exporter": "python",
   "pygments_lexer": "ipython3",
   "version": "3.12.10"
  }
 },
 "nbformat": 4,
 "nbformat_minor": 5
}
