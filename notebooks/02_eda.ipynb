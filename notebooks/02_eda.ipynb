{
 "cells": [
  {
   "cell_type": "markdown",
   "id": "9e1befed-a51c-4873-a50a-7fe50aff0db9",
   "metadata": {},
   "source": [
    "# **Exploratory Data Analysis**"
   ]
  },
  {
   "cell_type": "markdown",
   "id": "19f05ec8-0573-4d89-9178-fcd540e10462",
   "metadata": {},
   "source": [
    "## **1. Introduction**"
   ]
  },
  {
   "cell_type": "markdown",
   "id": "cdde0d2d-bc84-411d-a147-4f135f1ba518",
   "metadata": {},
   "source": [
    "### **Notebook Overview**"
   ]
  },
  {
   "cell_type": "markdown",
   "id": "b363a020-dbf9-4a10-a159-77986db82822",
   "metadata": {},
   "source": [
    "---"
   ]
  },
  {
   "cell_type": "markdown",
   "id": "00162111-2529-4c8f-b3a0-224a5513fcec",
   "metadata": {},
   "source": [
    "### **EDA Objectives**"
   ]
  },
  {
   "cell_type": "markdown",
   "id": "ec08fe1d-bade-4d03-8062-5ae04c1fcfbc",
   "metadata": {},
   "source": [
    "**Goal**: Build succinct but high-leverage EDA that:\n",
    "1. **Validates data readiness**\n",
    "2. **Characterizes category & text distributions** to guide vectorizer and model decisions\n",
    "3. **Assesses resume / job domain alignment** so that similarity scores are interpretable\n",
    "4. **Surface feature signals** that motivate classifier phase"
   ]
  },
  {
   "cell_type": "markdown",
   "id": "64a7620c-f7e2-455b-b2c8-38c8e6da8fc8",
   "metadata": {},
   "source": [
    "---"
   ]
  },
  {
   "cell_type": "markdown",
   "id": "0e348488-7056-4b87-8d78-109d93ef8324",
   "metadata": {},
   "source": [
    "### **Key Questions to Explore / Goals**"
   ]
  },
  {
   "cell_type": "markdown",
   "id": "c30e1745-50ae-4c19-8ecf-ba95fc4f3b66",
   "metadata": {},
   "source": [
    "1. *We’ve consolidated heterogeneous résumé labels into a stable category schema. Are categories\n",
    "balanced? Are some under‑represented (affects model choice & evaluation)?*\n",
    "2. *Our text cleaning pipeline produced reasonably normalized documents. Are lengths sane? Any empty /\n",
    "near‑empty docs that need dropping?*\n",
    "3. *Résumés and job postings live in related but not identical vocabularies. Quantify overlap → motivates\n",
    "TF‑IDF vs domain‑invariant embeddings.*\n",
    "4. *Certain tokens/skills strongly associate with categories. Justifies supervised modelling & informs\n",
    "interpretability features in the prototype app.*\n",
    "5. *There is (or isn’t) enough signal alignment between supply (resumes) and demand (jobs) to support\n",
    "recommender ranking. Drives how heavily to weight category filters before SBERT similarity.*"
   ]
  },
  {
   "cell_type": "markdown",
   "id": "64da46af-93fb-42f4-9660-81e8e14c40fa",
   "metadata": {},
   "source": [
    "---"
   ]
  },
  {
   "cell_type": "markdown",
   "id": "e33467e3-ea8e-43fd-bb2f-5f827c0e5b2d",
   "metadata": {},
   "source": [
    "### **Dataset Descriptions**"
   ]
  },
  {
   "cell_type": "markdown",
   "id": "7eae792c-a512-452c-9357-52c5dc7000c4",
   "metadata": {},
   "source": [
    "#### **Linkedin Job Postings Dataset**\n",
    "**Original Dataset**: [LinkedIn Job Postings (2023 - 2024)](https://www.kaggle.com/datasets/arshkon/linkedin-job-postings) by [Arsh Koneru](https://www.kaggle.com/arshkon) and [Zoey Yu Zou](https://www.kaggle.com/zoeyyuzou)\n",
    "- Contains job titles, descriptions, industries, and metadata.\n",
    "- We primarily focus on the `title` and `description` fields for text processing.\n",
    "\n",
    "**Cleaned Jobs Dataset**:\n",
    "- Processed by spaCy"
   ]
  },
  {
   "cell_type": "markdown",
   "id": "a633bcc6-3124-43cc-aae3-a9483a5bfd87",
   "metadata": {},
   "source": [
    "#### **Resume Dataset**\n",
    "**Original Dataset**: [Resume Dataset](https://www.kaggle.com/datasets/snehaanbhawal/resume-dataset/data) by [Snehaan Bhawal](https://www.kaggle.com/snehaanbhawal)\n",
    "- Contains labeled résumé texts (`Resume_str`) across multiple categories.\n",
    "- The `Category` field serves as the ground-truth label for classifier training.\n",
    "\n",
    "**Cleaned Resume Dataset**\n",
    "- Processed by spaCy"
   ]
  },
  {
   "cell_type": "markdown",
   "id": "dad531fe-fc0b-4d68-8552-99d5239c6443",
   "metadata": {},
   "source": [
    "### **Import Packages**"
   ]
  },
  {
   "cell_type": "code",
   "execution_count": 1,
   "id": "3cd6b9a6-40e4-44e7-a01b-23748dc00d33",
   "metadata": {},
   "outputs": [],
   "source": [
    "import pandas as pd\n",
    "import numpy as np\n",
    "import matplotlib.pyplot as plt\n",
    "import seaborn as sns\n",
    "\n",
    "from joblib import Parallel, delayed"
   ]
  },
  {
   "cell_type": "code",
   "execution_count": 2,
   "id": "bc03a6f7-fdc1-4f90-b308-bb3f672acddd",
   "metadata": {},
   "outputs": [
    {
     "name": "stdout",
     "output_type": "stream",
     "text": [
      "INFO: Pandarallel will run on 32 workers.\n",
      "INFO: Pandarallel will use Memory file system to transfer data between the main process and workers.\n"
     ]
    }
   ],
   "source": [
    "from jobrec import config\n",
    "from jobrec import visualizer as vis\n",
    "from jobrec.preprocessing import _nlp\n",
    "from jobrec.spacy_df_io import save_spacy_df, load_spacy_df"
   ]
  },
  {
   "cell_type": "code",
   "execution_count": 3,
   "id": "93a74caf-7b7e-4238-971e-30a893762d86",
   "metadata": {},
   "outputs": [],
   "source": [
    "import warnings\n",
    "warnings.simplefilter(action='ignore', category=UserWarning)\n",
    "warnings.simplefilter(action='ignore', category=FutureWarning)"
   ]
  },
  {
   "cell_type": "markdown",
   "id": "a394074d-e664-4ff9-b5c6-d9d473bdaabc",
   "metadata": {},
   "source": [
    "---"
   ]
  },
  {
   "cell_type": "markdown",
   "id": "9014c82f-3c58-42d9-b40b-0b37e6802687",
   "metadata": {},
   "source": [
    "## **2. Data Integrity & Sanity Checks**\n",
    "**Purpose:**\n",
    "- Catch residual data errors before modelling: broken tokenization, empty texts, duplicate IDs, inconsistent\n",
    "stats.\n",
    "\n",
    "**Key Items:**\n",
    "1. Missing data? (Title, Skills, Descriptions, Docs, Other Fields)\n",
    "2. Duplicates?\n",
    "3. Are any text fields empty or extremely short?\n",
    "4. Do numeric length stats match actual text lengths (spot check)?\n",
    "5. Are there rows with skills but no text?\n",
    "\n",
    "**Visuals:** \n",
    "- Optional bar of missingness\n",
    "- Optional boxplot of text length "
   ]
  },
  {
   "cell_type": "code",
   "execution_count": 4,
   "id": "0c704416-eb8b-489e-86a7-64271000e22a",
   "metadata": {},
   "outputs": [],
   "source": [
    "# Load Datasets\n",
    "if config.SPACY_MODE == True:\n",
    "    # Load jobs dataframe using custom utility\n",
    "    jobs_df   = load_spacy_df(config.JOB_CORPUS_DIR, _nlp)\n",
    "    resume_df = load_spacy_df(config.RESUME_CORPUS_DIR, _nlp)\n",
    "else:\n",
    "    # Load from CSV\n",
    "    jobs_df   = pd.read_csv(f\"{config.PROCESSED_DATA_DIR / config.JOB_NAME}.csv\").reset_index()\n",
    "    resume_df = pd.read_csv(f\"{config.PROCESSED_DATA_DIR / config.RESUME_NAME}.csv\").reset_index()"
   ]
  },
  {
   "cell_type": "markdown",
   "id": "27f50d54-a3fa-449a-8c83-aead830b1bba",
   "metadata": {},
   "source": [
    "### **2.1 Initial Inspections**\n",
    "Description of what I will do in this section.\n",
    "\n",
    "**Questions to Answer:** "
   ]
  },
  {
   "cell_type": "markdown",
   "id": "db43f056-b745-49ee-a01c-70c62d82dd34",
   "metadata": {},
   "source": [
    "#### **Jobs Dataset**"
   ]
  },
  {
   "cell_type": "code",
   "execution_count": null,
   "id": "56ae559f-1844-4911-8a7a-fc112c93dbb9",
   "metadata": {},
   "outputs": [],
   "source": []
  },
  {
   "cell_type": "markdown",
   "id": "8c856bb3-9c04-4600-89bc-79047e30079d",
   "metadata": {},
   "source": [
    "#### **Resume Dataset**"
   ]
  },
  {
   "cell_type": "code",
   "execution_count": null,
   "id": "0a187537-7972-432c-a8b4-de52acfd0285",
   "metadata": {},
   "outputs": [],
   "source": []
  },
  {
   "cell_type": "markdown",
   "id": "02ba5916-7f21-48ff-b756-56d1675ce0bf",
   "metadata": {},
   "source": [
    "### **2.2 Missingness**\n",
    "Description of what I will do in this section.\n",
    "\n",
    "**Questions to Answer:** "
   ]
  },
  {
   "cell_type": "code",
   "execution_count": null,
   "id": "278f8919-c5f5-4ade-8555-cc0bd77169f8",
   "metadata": {},
   "outputs": [],
   "source": []
  },
  {
   "cell_type": "markdown",
   "id": "9c646125-1d92-4eee-8728-8e313e963cc5",
   "metadata": {},
   "source": [
    "### **2.3 Duplicates**\n",
    "Description of what I will do in this section."
   ]
  },
  {
   "cell_type": "code",
   "execution_count": null,
   "id": "afa3ecfb-9173-4b93-a6fb-362de16c1e93",
   "metadata": {},
   "outputs": [],
   "source": []
  },
  {
   "cell_type": "markdown",
   "id": "0e011102-b166-4ea9-bc86-766e75ac7d05",
   "metadata": {},
   "source": [
    "### **2.4 Text Length Edge Cases**\n",
    "- Identify extreme outliers in text length/tokens (>99th percentile, <1st percentile, arbitrary range)\n",
    "\n",
    "Description of what I will do in this section.\n",
    "\n",
    "**Questions to Answer:** "
   ]
  },
  {
   "cell_type": "code",
   "execution_count": null,
   "id": "c892346a-1fe4-4148-931d-dfdc147a9680",
   "metadata": {},
   "outputs": [],
   "source": []
  },
  {
   "cell_type": "markdown",
   "id": "3cb2812e-fee5-4d68-918a-c439b1419637",
   "metadata": {},
   "source": [
    "### **2.5 Further Dataset Pruning**"
   ]
  },
  {
   "cell_type": "markdown",
   "id": "ae0ac664-8aa6-41db-8eec-41331fd80c87",
   "metadata": {},
   "source": [
    "This section is dependant on findings in previous subsections. Anything inconvienient towards analysis will be pruned at this stage."
   ]
  },
  {
   "cell_type": "markdown",
   "id": "8b8edfed-be21-4c3c-8f19-ddbf27f46ce4",
   "metadata": {},
   "source": [
    "#### **Jobs Dataset**"
   ]
  },
  {
   "cell_type": "code",
   "execution_count": null,
   "id": "104043b3-72f1-4b56-bb92-968c7493144b",
   "metadata": {},
   "outputs": [],
   "source": []
  },
  {
   "cell_type": "markdown",
   "id": "25d99e7c-b7aa-4b25-9740-aa2999a6f2dd",
   "metadata": {},
   "source": [
    "#### **Resume Dataset**"
   ]
  },
  {
   "cell_type": "code",
   "execution_count": null,
   "id": "a3b3ed73-4770-4692-92af-b8791e0b893a",
   "metadata": {},
   "outputs": [],
   "source": []
  },
  {
   "cell_type": "markdown",
   "id": "3cd1c7b0-c85e-456b-8ee2-188508497e07",
   "metadata": {},
   "source": [
    "---"
   ]
  },
  {
   "cell_type": "markdown",
   "id": "16459045-0163-4eac-ba2e-eba27b800e7f",
   "metadata": {},
   "source": [
    "## **3. Category Landscape**\n",
    "**Questions:**\n",
    "1. Is there a balance of resume categories?\n",
    "2. Can we create a bridge between resume categories and job domains?\n",
    "3. Are there any signature terms on a category basis?"
   ]
  },
  {
   "cell_type": "markdown",
   "id": "da53501f-e1c2-41b9-8418-28e54be8e71c",
   "metadata": {},
   "source": [
    "### **3.1 Resume Category Balance**\n",
    "**Purpose:**\n",
    "- Understand target imbalance for supervised résumé classifier.\n",
    "  \n",
    "**Key Questions:**\n",
    "1. Which Categories dominate?\n",
    "2. How many classes fall below a learnable threshold (<50 rows? <20?)\n",
    "3. Should we collapse / reweight / use stratified CV?"
   ]
  },
  {
   "cell_type": "code",
   "execution_count": null,
   "id": "57a8161a-c428-4cc6-b9cf-4b44b905827c",
   "metadata": {},
   "outputs": [],
   "source": []
  },
  {
   "cell_type": "markdown",
   "id": "bad73861-3d4c-4d86-8bde-20f1a660079d",
   "metadata": {},
   "source": []
  },
  {
   "cell_type": "markdown",
   "id": "dffb7e0f-7aa0-40f2-bb62-1204348b08fe",
   "metadata": {},
   "source": [
    "### **3.2 Category to Domain Bridge Construction and Validation**\n",
    "Description of what I will do in this section.\n",
    "**Purpose:**\n",
    "- Harmonize fine-grained résumé Category labels to the coarser domain vocabulary shared with jobs.\n",
    "- This mapping underpins filtering in the recommender and aggregation in EDA.\n",
    "\n",
    "**Questions to Answer:** \n",
    "1. Which domains best represents each category?\n",
    "2. Are there categories that map to multiple domains?\n",
    "3. How noisy are auto-extracted domains vs manual judgement? "
   ]
  },
  {
   "cell_type": "code",
   "execution_count": null,
   "id": "2bc29524-7cd7-41b5-abed-3fd65bedc9b1",
   "metadata": {},
   "outputs": [],
   "source": []
  },
  {
   "cell_type": "markdown",
   "id": "48f7855b-68f1-4042-9683-7d724e7e7cf8",
   "metadata": {},
   "source": [
    "### **3.3 Category Signature Terms**\n",
    "**Purpose:**\n",
    "- Surface discriminative language that differentiates categories (for classifier) and domains (for\n",
    "recommender filtering + interpretability).\n",
    "\n",
    "**Questions to Answer:** \n",
    "1. What words/phrases are over represented in each resume category?\n",
    "2. What terms characterize job descriptions in each job domain?\n",
    "3. Are there mismatches?"
   ]
  },
  {
   "cell_type": "code",
   "execution_count": null,
   "id": "1e89e674-06a5-45d4-b26d-0dc9a00315e4",
   "metadata": {},
   "outputs": [],
   "source": []
  },
  {
   "cell_type": "markdown",
   "id": "4b8e9c04-7945-41e8-b7e0-39728f4bde55",
   "metadata": {},
   "source": [
    "---"
   ]
  },
  {
   "cell_type": "markdown",
   "id": "8157a836-d84a-4a2e-808f-c48c6ff97ed7",
   "metadata": {},
   "source": [
    "## **4. Domain Analysis**\n",
    "**We want to know:** \n",
    "- Does each résumé category have enough corresponding job postings? If not, similarity search\n",
    "will either fail or return cross‑domain noise.\n",
    "\n",
    "**Purpose:**\n",
    "- Ensure each résumé domain has enough jobs for recommender filtering and evaluation.\n",
    "\n",
    "**Questions to Answer:** \n",
    "1. How many jobs exist for each mapped resume domain?\n",
    "2. Are there any coverage gaps?\n",
    "3. Do domain clusters differ between jobs and resumes?"
   ]
  },
  {
   "cell_type": "code",
   "execution_count": null,
   "id": "2babec90-c93d-4c12-8fed-5a50743582ac",
   "metadata": {},
   "outputs": [],
   "source": []
  },
  {
   "cell_type": "markdown",
   "id": "fb3f951b-f5a5-48c2-bed5-0bb4f3eb418d",
   "metadata": {},
   "source": [
    "---"
   ]
  },
  {
   "cell_type": "markdown",
   "id": "bee45eff-747d-47fc-9a6d-0ffe62b8e6f9",
   "metadata": {},
   "source": [
    "## **5. Text Profiling and Quality Assurance**\n",
    "- I would absolutely do my numerical analysis on text features and the spaCy docs\n",
    "- Guides vectorizer limits, n‑gram settings, and whether to trim/clean further.\n",
    "\n",
    "**Purpose:**\n",
    "- Characterize textual scale differences that affect vectorization (TF-IDF vs char n-grams), truncation, and\n",
    "embedding memory.\n",
    "- Understand document scale differences influencing vectorization, memory, and model\n",
    "robustness; satisfy histogram, scatter, and Pearson requirements.\n",
    "\n",
    "**Key Questions:**\n",
    "1. Are résumés dramatically longer than job descriptions?\n",
    "2. Are certain domains consistently short/long?\n",
    "3. Does lexical diversity vary by domain?"
   ]
  },
  {
   "cell_type": "code",
   "execution_count": null,
   "id": "21076116-5b01-404b-ba2d-de19f537f66a",
   "metadata": {},
   "outputs": [],
   "source": []
  },
  {
   "cell_type": "markdown",
   "id": "a2d08f0a-f0aa-4617-a044-3fb3ab675272",
   "metadata": {},
   "source": [
    "---"
   ]
  },
  {
   "cell_type": "markdown",
   "id": "b2d0027a-6a0b-46d7-81c7-77e062c140a0",
   "metadata": {},
   "source": [
    "## **6. Vocabulary Overlap and Lexical Analysis**\n",
    "Quantify lexical overlap between résumé and job corpora.\n",
    "\n",
    "**Questions to Answer:** \n",
    "1. Is there any general vocabulary overlap between resumes and job listings?\n",
    "2. Is there vocabulary overlap that is category-conditional?"
   ]
  },
  {
   "cell_type": "code",
   "execution_count": null,
   "id": "c1865fb6-8693-4879-bbbb-7aa31d783f27",
   "metadata": {},
   "outputs": [],
   "source": []
  },
  {
   "cell_type": "markdown",
   "id": "a203051a-521a-4811-9730-3346a0051cdb",
   "metadata": {},
   "source": [
    "### **6.1 Global Overlap**\n",
    "- Top N (e.g., 5k) tokens in résumés vs jobs, compute Jaccard.\n",
    "- **Weighted overlap:** sum min(TFIDF_R, TFIDF_J) across tokens."
   ]
  },
  {
   "cell_type": "code",
   "execution_count": null,
   "id": "96dcfbf8-918e-40f0-868e-6017a9e0e9f7",
   "metadata": {},
   "outputs": [],
   "source": []
  },
  {
   "cell_type": "markdown",
   "id": "92582fa5-9e32-42f3-a622-638d09ef0bf2",
   "metadata": {},
   "source": [
    "### **6.2 Category-Conditional Overlap**\n",
    "- For each category, compute Jaccard between résumé subset and job subset tokens.\n",
    "- Heatmap categories (rows=résumé cats, cols=job cats) colored by token overlap or cosine of average\n",
    "TF‑IDF vectors."
   ]
  },
  {
   "cell_type": "code",
   "execution_count": null,
   "id": "c1776930-bc23-4601-9bfa-d5e06bead974",
   "metadata": {},
   "outputs": [],
   "source": []
  },
  {
   "cell_type": "markdown",
   "id": "60eae3c9-beae-4679-b72a-3749771b8e45",
   "metadata": {},
   "source": [
    "---"
   ]
  },
  {
   "cell_type": "markdown",
   "id": "48fca169-6bef-4f87-8096-acfeac9a94c9",
   "metadata": {},
   "source": [
    "## **7. Skill Supply Vs. Demand**\n",
    "**Objective:** \n",
    "- Show where candidate self‑reported skills (résumé mentions) align or misalign with requested\n",
    "skills in job postings.\n",
    "\n",
    "**Purpose:**\n",
    "- Quantify which skills employers ask for that candidates under-report (and vice versa). Fuels ATS gap feedback &\n",
    "résumé improvement tips.\n",
    "\n",
    "**Key Questions:**\n",
    "1. Which skills are in higher demand than are represented by resumes?\n",
    "2. Which skills are over-represented in resumes relative to job postings?\n",
    "3. Are gaps domain-specific?"
   ]
  },
  {
   "cell_type": "code",
   "execution_count": null,
   "id": "95b7e79a-f3c5-4f7d-86fd-2958055544a5",
   "metadata": {},
   "outputs": [],
   "source": []
  },
  {
   "cell_type": "markdown",
   "id": "0fda7c22-e829-4c37-80fe-c2a27670419e",
   "metadata": {},
   "source": [
    "## **8. Prototype Recommender**\n",
    "**Steps:**\n",
    "1. Pick K random résumés.\n",
    "2. For each, compute cosine similarity vs all job TF‑IDF vectors (bag‑of‑words baseline; embeddings\n",
    "later).\n",
    "3. Show top 5 jobs; eyeball whether category alignment is reasonable."
   ]
  },
  {
   "cell_type": "code",
   "execution_count": null,
   "id": "28ae4d6b-b65a-4f6a-8c2e-1d817a6264d5",
   "metadata": {},
   "outputs": [],
   "source": []
  },
  {
   "cell_type": "markdown",
   "id": "b9d0f880-b57a-4736-bb58-2aed595e55a0",
   "metadata": {},
   "source": [
    "---"
   ]
  },
  {
   "cell_type": "markdown",
   "id": "bb05c483-459c-48b3-ae11-220b99efabe4",
   "metadata": {},
   "source": [
    "## **Conclusions**"
   ]
  },
  {
   "cell_type": "markdown",
   "id": "d352ff8d-80f8-49a6-8bc6-8b8e6cb27212",
   "metadata": {},
   "source": [
    "### **Save Final Datasets**"
   ]
  },
  {
   "cell_type": "code",
   "execution_count": null,
   "id": "155b21ba-0107-4879-958d-716585933208",
   "metadata": {},
   "outputs": [],
   "source": []
  },
  {
   "cell_type": "markdown",
   "id": "a7895038-c859-4c87-b39f-4564050866d3",
   "metadata": {},
   "source": [
    "---"
   ]
  },
  {
   "cell_type": "markdown",
   "id": "2e4669b1-73e6-4a72-9b13-b028dfdd0dce",
   "metadata": {
    "jp-MarkdownHeadingCollapsed": true
   },
   "source": [
    "# Notes"
   ]
  }
 ],
 "metadata": {
  "kernelspec": {
   "display_name": "Python 3 (ipykernel)",
   "language": "python",
   "name": "python3"
  },
  "language_info": {
   "codemirror_mode": {
    "name": "ipython",
    "version": 3
   },
   "file_extension": ".py",
   "mimetype": "text/x-python",
   "name": "python",
   "nbconvert_exporter": "python",
   "pygments_lexer": "ipython3",
   "version": "3.12.10"
  }
 },
 "nbformat": 4,
 "nbformat_minor": 5
}
