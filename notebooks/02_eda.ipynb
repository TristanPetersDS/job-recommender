{
 "cells": [
  {
   "cell_type": "markdown",
   "id": "9e1befed-a51c-4873-a50a-7fe50aff0db9",
   "metadata": {},
   "source": [
    "# **Exploratory Data Analysis**"
   ]
  },
  {
   "cell_type": "markdown",
   "id": "19f05ec8-0573-4d89-9178-fcd540e10462",
   "metadata": {},
   "source": [
    "## **1. Introduction**"
   ]
  },
  {
   "cell_type": "markdown",
   "id": "cdde0d2d-bc84-411d-a147-4f135f1ba518",
   "metadata": {},
   "source": [
    "### **Notebook Overview**"
   ]
  },
  {
   "cell_type": "markdown",
   "id": "b363a020-dbf9-4a10-a159-77986db82822",
   "metadata": {},
   "source": [
    "---"
   ]
  },
  {
   "cell_type": "markdown",
   "id": "00162111-2529-4c8f-b3a0-224a5513fcec",
   "metadata": {},
   "source": [
    "### **EDA Objectives**"
   ]
  },
  {
   "cell_type": "markdown",
   "id": "ec08fe1d-bade-4d03-8062-5ae04c1fcfbc",
   "metadata": {},
   "source": [
    "**Goal**: Build succinct but high-leverage EDA that:\n",
    "1. **Validates data readiness**\n",
    "2. **Characterizes category & text distributions** to guide vectorizer and model decisions\n",
    "3. **Assesses resume / job domain alignment** so that similarity scores are interpretable\n",
    "4. **Surface feature signals** that motivate classifier phase"
   ]
  },
  {
   "cell_type": "markdown",
   "id": "64a7620c-f7e2-455b-b2c8-38c8e6da8fc8",
   "metadata": {},
   "source": [
    "---"
   ]
  },
  {
   "cell_type": "markdown",
   "id": "0e348488-7056-4b87-8d78-109d93ef8324",
   "metadata": {},
   "source": [
    "### **Key Questions to Explore / Goals**"
   ]
  },
  {
   "cell_type": "markdown",
   "id": "c30e1745-50ae-4c19-8ecf-ba95fc4f3b66",
   "metadata": {},
   "source": [
    "1. *We’ve consolidated heterogeneous résumé labels into a stable category schema. Are categories\n",
    "balanced? Are some under‑represented (affects model choice & evaluation)?*\n",
    "2. *Our text cleaning pipeline produced reasonably normalized documents. Are lengths sane? Any empty /\n",
    "near‑empty docs that need dropping?*\n",
    "3. *Résumés and job postings live in related but not identical vocabularies. Quantify overlap → motivates\n",
    "TF‑IDF vs domain‑invariant embeddings.*\n",
    "4. *Certain tokens/skills strongly associate with categories. Justifies supervised modelling & informs\n",
    "interpretability features in the prototype app.*\n",
    "5. *There is (or isn’t) enough signal alignment between supply (resumes) and demand (jobs) to support\n",
    "recommender ranking. Drives how heavily to weight category filters before SBERT similarity.*"
   ]
  },
  {
   "cell_type": "markdown",
   "id": "64da46af-93fb-42f4-9660-81e8e14c40fa",
   "metadata": {},
   "source": [
    "---"
   ]
  },
  {
   "cell_type": "markdown",
   "id": "e33467e3-ea8e-43fd-bb2f-5f827c0e5b2d",
   "metadata": {},
   "source": [
    "### **Dataset Descriptions**"
   ]
  },
  {
   "cell_type": "markdown",
   "id": "7eae792c-a512-452c-9357-52c5dc7000c4",
   "metadata": {},
   "source": [
    "#### **Linkedin Job Postings Dataset**\n",
    "**Original Dataset**: [LinkedIn Job Postings (2023 - 2024)](https://www.kaggle.com/datasets/arshkon/linkedin-job-postings) by [Arsh Koneru](https://www.kaggle.com/arshkon) and [Zoey Yu Zou](https://www.kaggle.com/zoeyyuzou)\n",
    "- Contains job titles, descriptions, industries, and metadata.\n",
    "- We primarily focus on the `title` and `description` fields for text processing.\n",
    "\n",
    "**Cleaned Jobs Dataset**:\n",
    "- Processed by spaCy"
   ]
  },
  {
   "cell_type": "markdown",
   "id": "a633bcc6-3124-43cc-aae3-a9483a5bfd87",
   "metadata": {},
   "source": [
    "#### **Resume Dataset**\n",
    "**Original Dataset**: [Resume Dataset](https://www.kaggle.com/datasets/snehaanbhawal/resume-dataset/data) by [Snehaan Bhawal](https://www.kaggle.com/snehaanbhawal)\n",
    "- Contains labeled résumé texts (`Resume_str`) across multiple categories.\n",
    "- The `Category` field serves as the ground-truth label for classifier training.\n",
    "\n",
    "**Cleaned Resume Dataset**\n",
    "- Processed by spaCy"
   ]
  },
  {
   "cell_type": "markdown",
   "id": "dad531fe-fc0b-4d68-8552-99d5239c6443",
   "metadata": {},
   "source": [
    "### **Importing Packages and Configuring Directory Pathing**"
   ]
  },
  {
   "cell_type": "code",
   "execution_count": 1,
   "id": "5c844835-2e39-432d-b107-1531e48e5a83",
   "metadata": {},
   "outputs": [],
   "source": [
    "# REMOVE THIS BEFORE SUBMISSION\n",
    "%load_ext autoreload\n",
    "%autoreload 2"
   ]
  },
  {
   "cell_type": "code",
   "execution_count": 2,
   "id": "3cd6b9a6-40e4-44e7-a01b-23748dc00d33",
   "metadata": {},
   "outputs": [],
   "source": [
    "import pandas as pd\n",
    "import numpy as np\n",
    "import matplotlib.pyplot as plt\n",
    "import seaborn as sns\n",
    "\n",
    "from joblib import Parallel, delayed"
   ]
  },
  {
   "cell_type": "code",
   "execution_count": 16,
   "id": "bc03a6f7-fdc1-4f90-b308-bb3f672acddd",
   "metadata": {},
   "outputs": [
    {
     "name": "stdout",
     "output_type": "stream",
     "text": [
      "INFO: Pandarallel will run on 32 workers.\n",
      "INFO: Pandarallel will use Memory file system to transfer data between the main process and workers.\n"
     ]
    }
   ],
   "source": [
    "from jobrec import config\n",
    "from jobrec import visualizer as vis\n",
    "from jobrec.preprocessing import _nlp\n",
    "from jobrec.spacy_df_io import save_spacy_df, load_spacy_df"
   ]
  },
  {
   "cell_type": "code",
   "execution_count": 4,
   "id": "93a74caf-7b7e-4238-971e-30a893762d86",
   "metadata": {},
   "outputs": [],
   "source": [
    "import warnings\n",
    "warnings.simplefilter(action='ignore', category=UserWarning)\n",
    "warnings.simplefilter(action='ignore', category=FutureWarning)"
   ]
  },
  {
   "cell_type": "markdown",
   "id": "a394074d-e664-4ff9-b5c6-d9d473bdaabc",
   "metadata": {},
   "source": [
    "---"
   ]
  },
  {
   "cell_type": "markdown",
   "id": "9014c82f-3c58-42d9-b40b-0b37e6802687",
   "metadata": {},
   "source": [
    "## **2. Data Overview**"
   ]
  },
  {
   "cell_type": "markdown",
   "id": "6dcdf4ec-d704-4c18-9634-525afa779ec1",
   "metadata": {},
   "source": [
    "### **Jobs Dataset**"
   ]
  },
  {
   "cell_type": "code",
   "execution_count": 17,
   "id": "01787cd8-4230-4609-8f3a-ae7090030e30",
   "metadata": {},
   "outputs": [],
   "source": [
    "# Load jobs dataframe using custom utility\n",
    "jobs_df = load_spacy_df(config.CORPUS_DATA_DIR/\"jobs\", _nlp)"
   ]
  },
  {
   "cell_type": "code",
   "execution_count": 18,
   "id": "70fdf396-955b-42c1-8f51-2f3fd5d0b72f",
   "metadata": {},
   "outputs": [
    {
     "data": {
      "text/html": [
       "<div>\n",
       "<style scoped>\n",
       "    .dataframe tbody tr th:only-of-type {\n",
       "        vertical-align: middle;\n",
       "    }\n",
       "\n",
       "    .dataframe tbody tr th {\n",
       "        vertical-align: top;\n",
       "    }\n",
       "\n",
       "    .dataframe thead th {\n",
       "        text-align: right;\n",
       "    }\n",
       "</style>\n",
       "<table border=\"1\" class=\"dataframe\">\n",
       "  <thead>\n",
       "    <tr style=\"text-align: right;\">\n",
       "      <th></th>\n",
       "      <th>job_id</th>\n",
       "      <th>title</th>\n",
       "      <th>title_clean</th>\n",
       "      <th>skill_name</th>\n",
       "      <th>industry_name</th>\n",
       "      <th>description</th>\n",
       "      <th>desc_clean</th>\n",
       "      <th>desc_clean_lemmatized</th>\n",
       "      <th>desc_clean_tokens</th>\n",
       "      <th>desc_skills</th>\n",
       "      <th>desc_domains</th>\n",
       "      <th>desc_text_length</th>\n",
       "      <th>desc_avg_word_length</th>\n",
       "      <th>desc_unique_word_count</th>\n",
       "      <th>desc_lexical_diversity</th>\n",
       "    </tr>\n",
       "  </thead>\n",
       "  <tbody>\n",
       "    <tr>\n",
       "      <th>73989</th>\n",
       "      <td>3902944011</td>\n",
       "      <td>Senior Automation Engineer - Power Systems</td>\n",
       "      <td>senior automation engineer power systems</td>\n",
       "      <td>[information technology, engineering]</td>\n",
       "      <td>[oil and gas]</td>\n",
       "      <td>The Senior Automation / Power Systems Engineer...</td>\n",
       "      <td>the senior automation power systems engineer w...</td>\n",
       "      <td>senior automation power system engineer primar...</td>\n",
       "      <td>(the, senior, automation, power, systems, engi...</td>\n",
       "      <td>[engineering, design, development, communicati...</td>\n",
       "      <td>[engineering]</td>\n",
       "      <td>635</td>\n",
       "      <td>6.059843</td>\n",
       "      <td>335</td>\n",
       "      <td>0.527559</td>\n",
       "    </tr>\n",
       "    <tr>\n",
       "      <th>59308</th>\n",
       "      <td>3901960222</td>\n",
       "      <td>DISH Installation Technician - Field</td>\n",
       "      <td>dish installation technician field</td>\n",
       "      <td>[information technology, engineering]</td>\n",
       "      <td>[telecommunications]</td>\n",
       "      <td>Company Summary\\n\\nDISH, an EchoStar Company, ...</td>\n",
       "      <td>company summary dish an echostar company has b...</td>\n",
       "      <td>company summary dish echostar company reimagin...</td>\n",
       "      <td>(company, summary, dish, an, echostar, company...</td>\n",
       "      <td>[leadership, installation]</td>\n",
       "      <td>[business]</td>\n",
       "      <td>466</td>\n",
       "      <td>5.193133</td>\n",
       "      <td>260</td>\n",
       "      <td>0.557940</td>\n",
       "    </tr>\n",
       "    <tr>\n",
       "      <th>44663</th>\n",
       "      <td>3900944095</td>\n",
       "      <td>Order Builder</td>\n",
       "      <td>order builder</td>\n",
       "      <td>[management, manufacturing]</td>\n",
       "      <td>[manufacturing]</td>\n",
       "      <td>Division: North Alabama\\n\\nDepartment : Oxford...</td>\n",
       "      <td>division north alabama department oxford wareh...</td>\n",
       "      <td>division north alabama department oxford wareh...</td>\n",
       "      <td>(division, north, alabama, department, oxford,...</td>\n",
       "      <td>[management]</td>\n",
       "      <td>[education, business]</td>\n",
       "      <td>439</td>\n",
       "      <td>6.214123</td>\n",
       "      <td>291</td>\n",
       "      <td>0.662870</td>\n",
       "    </tr>\n",
       "    <tr>\n",
       "      <th>81954</th>\n",
       "      <td>3903878594</td>\n",
       "      <td>Mountain Multimedia Journalist, KMGH</td>\n",
       "      <td>mountain multimedia journalist kmgh</td>\n",
       "      <td>[writing/editing, marketing, public relations]</td>\n",
       "      <td>[broadcast media production and distribution]</td>\n",
       "      <td>KMGH, the E.W. Scripps Company ABC affiliate i...</td>\n",
       "      <td>kmgh the e w scripps company abc affiliate in ...</td>\n",
       "      <td>kmgh e w scripps company abc affiliate denver ...</td>\n",
       "      <td>(kmgh, the, e, w, scripps, company, abc, affil...</td>\n",
       "      <td>[leadership]</td>\n",
       "      <td>[business]</td>\n",
       "      <td>833</td>\n",
       "      <td>5.370948</td>\n",
       "      <td>446</td>\n",
       "      <td>0.535414</td>\n",
       "    </tr>\n",
       "    <tr>\n",
       "      <th>113151</th>\n",
       "      <td>3905670593</td>\n",
       "      <td>Licensed Practical Nurse (LPN)</td>\n",
       "      <td>licensed practical nurse lpn</td>\n",
       "      <td>[health care provider]</td>\n",
       "      <td>[hospitals and health care]</td>\n",
       "      <td>Come for the Flexibility, Stay for the Culture...</td>\n",
       "      <td>come for the flexibility stay for the culture ...</td>\n",
       "      <td>come flexibility stay culture need life work l...</td>\n",
       "      <td>(come, for, the, flexibility, stay, for, the, ...</td>\n",
       "      <td>[]</td>\n",
       "      <td>[]</td>\n",
       "      <td>305</td>\n",
       "      <td>5.373770</td>\n",
       "      <td>204</td>\n",
       "      <td>0.668852</td>\n",
       "    </tr>\n",
       "  </tbody>\n",
       "</table>\n",
       "</div>"
      ],
      "text/plain": [
       "            job_id                                       title  \\\n",
       "73989   3902944011  Senior Automation Engineer - Power Systems   \n",
       "59308   3901960222        DISH Installation Technician - Field   \n",
       "44663   3900944095                               Order Builder   \n",
       "81954   3903878594        Mountain Multimedia Journalist, KMGH   \n",
       "113151  3905670593              Licensed Practical Nurse (LPN)   \n",
       "\n",
       "                                     title_clean  \\\n",
       "73989   senior automation engineer power systems   \n",
       "59308         dish installation technician field   \n",
       "44663                              order builder   \n",
       "81954        mountain multimedia journalist kmgh   \n",
       "113151              licensed practical nurse lpn   \n",
       "\n",
       "                                            skill_name  \\\n",
       "73989            [information technology, engineering]   \n",
       "59308            [information technology, engineering]   \n",
       "44663                      [management, manufacturing]   \n",
       "81954   [writing/editing, marketing, public relations]   \n",
       "113151                          [health care provider]   \n",
       "\n",
       "                                        industry_name  \\\n",
       "73989                                   [oil and gas]   \n",
       "59308                            [telecommunications]   \n",
       "44663                                 [manufacturing]   \n",
       "81954   [broadcast media production and distribution]   \n",
       "113151                    [hospitals and health care]   \n",
       "\n",
       "                                              description  \\\n",
       "73989   The Senior Automation / Power Systems Engineer...   \n",
       "59308   Company Summary\\n\\nDISH, an EchoStar Company, ...   \n",
       "44663   Division: North Alabama\\n\\nDepartment : Oxford...   \n",
       "81954   KMGH, the E.W. Scripps Company ABC affiliate i...   \n",
       "113151  Come for the Flexibility, Stay for the Culture...   \n",
       "\n",
       "                                               desc_clean  \\\n",
       "73989   the senior automation power systems engineer w...   \n",
       "59308   company summary dish an echostar company has b...   \n",
       "44663   division north alabama department oxford wareh...   \n",
       "81954   kmgh the e w scripps company abc affiliate in ...   \n",
       "113151  come for the flexibility stay for the culture ...   \n",
       "\n",
       "                                    desc_clean_lemmatized  \\\n",
       "73989   senior automation power system engineer primar...   \n",
       "59308   company summary dish echostar company reimagin...   \n",
       "44663   division north alabama department oxford wareh...   \n",
       "81954   kmgh e w scripps company abc affiliate denver ...   \n",
       "113151  come flexibility stay culture need life work l...   \n",
       "\n",
       "                                        desc_clean_tokens  \\\n",
       "73989   (the, senior, automation, power, systems, engi...   \n",
       "59308   (company, summary, dish, an, echostar, company...   \n",
       "44663   (division, north, alabama, department, oxford,...   \n",
       "81954   (kmgh, the, e, w, scripps, company, abc, affil...   \n",
       "113151  (come, for, the, flexibility, stay, for, the, ...   \n",
       "\n",
       "                                              desc_skills  \\\n",
       "73989   [engineering, design, development, communicati...   \n",
       "59308                          [leadership, installation]   \n",
       "44663                                        [management]   \n",
       "81954                                        [leadership]   \n",
       "113151                                                 []   \n",
       "\n",
       "                 desc_domains  desc_text_length  desc_avg_word_length  \\\n",
       "73989           [engineering]               635              6.059843   \n",
       "59308              [business]               466              5.193133   \n",
       "44663   [education, business]               439              6.214123   \n",
       "81954              [business]               833              5.370948   \n",
       "113151                     []               305              5.373770   \n",
       "\n",
       "        desc_unique_word_count  desc_lexical_diversity  \n",
       "73989                      335                0.527559  \n",
       "59308                      260                0.557940  \n",
       "44663                      291                0.662870  \n",
       "81954                      446                0.535414  \n",
       "113151                     204                0.668852  "
      ]
     },
     "execution_count": 18,
     "metadata": {},
     "output_type": "execute_result"
    }
   ],
   "source": [
    "jobs_df.head()"
   ]
  },
  {
   "cell_type": "code",
   "execution_count": 14,
   "id": "8a5e4533-5eef-4941-8c37-d853429d54b2",
   "metadata": {},
   "outputs": [],
   "source": [
    "tokens = jobs_df['desc_clean_tokens'].iloc[0]"
   ]
  },
  {
   "cell_type": "code",
   "execution_count": 15,
   "id": "78095795-70ff-4c3e-88e8-7fd90360b329",
   "metadata": {},
   "outputs": [
    {
     "data": {
      "text/plain": [
       "str"
      ]
     },
     "execution_count": 15,
     "metadata": {},
     "output_type": "execute_result"
    }
   ],
   "source": [
    "type(tokens)"
   ]
  },
  {
   "cell_type": "markdown",
   "id": "8c856bb3-9c04-4600-89bc-79047e30079d",
   "metadata": {},
   "source": [
    "### **Resume Dataset**"
   ]
  },
  {
   "cell_type": "code",
   "execution_count": 19,
   "id": "72cd2a2b-7688-496c-948c-422e7fabc734",
   "metadata": {},
   "outputs": [],
   "source": [
    "resume_df = load_spacy_df(config.CORPUS_DATA_DIR/\"resumes\", _nlp)"
   ]
  },
  {
   "cell_type": "code",
   "execution_count": 20,
   "id": "7a865646-ed9a-4d5f-8125-8977c34e475e",
   "metadata": {},
   "outputs": [
    {
     "data": {
      "text/html": [
       "<div>\n",
       "<style scoped>\n",
       "    .dataframe tbody tr th:only-of-type {\n",
       "        vertical-align: middle;\n",
       "    }\n",
       "\n",
       "    .dataframe tbody tr th {\n",
       "        vertical-align: top;\n",
       "    }\n",
       "\n",
       "    .dataframe thead th {\n",
       "        text-align: right;\n",
       "    }\n",
       "</style>\n",
       "<table border=\"1\" class=\"dataframe\">\n",
       "  <thead>\n",
       "    <tr style=\"text-align: right;\">\n",
       "      <th></th>\n",
       "      <th>Category</th>\n",
       "      <th>resume</th>\n",
       "      <th>resume_clean</th>\n",
       "      <th>resume_clean_lemmatized</th>\n",
       "      <th>resume_clean_tokens</th>\n",
       "      <th>resume_skills</th>\n",
       "      <th>resume_domains</th>\n",
       "      <th>resume_text_length</th>\n",
       "      <th>resume_avg_word_length</th>\n",
       "      <th>resume_unique_word_count</th>\n",
       "      <th>resume_lexical_diversity</th>\n",
       "    </tr>\n",
       "  </thead>\n",
       "  <tbody>\n",
       "    <tr>\n",
       "      <th>420</th>\n",
       "      <td>TEACHER</td>\n",
       "      <td>Kpandipou    Koffi         Summary ...</td>\n",
       "      <td>kpandipou koffi summary compassionate teaching...</td>\n",
       "      <td>kpandipou koffi summary compassionate teaching...</td>\n",
       "      <td>(kpandipou, koffi, summary, compassionate, tea...</td>\n",
       "      <td>[management, marketing, design, communication,...</td>\n",
       "      <td>[education, business, marketing]</td>\n",
       "      <td>675</td>\n",
       "      <td>6.591111</td>\n",
       "      <td>378</td>\n",
       "      <td>0.560000</td>\n",
       "    </tr>\n",
       "    <tr>\n",
       "      <th>1309</th>\n",
       "      <td>DIGITAL-MEDIA</td>\n",
       "      <td>DIRECTOR OF DIGITAL TRANSFORMATION   ...</td>\n",
       "      <td>director of digital transformation executive p...</td>\n",
       "      <td>director digital transformation executive prof...</td>\n",
       "      <td>(director, of, digital, transformation, execut...</td>\n",
       "      <td>[management, marketing, design, development, l...</td>\n",
       "      <td>[education, tech, business, marketing]</td>\n",
       "      <td>845</td>\n",
       "      <td>5.733728</td>\n",
       "      <td>339</td>\n",
       "      <td>0.401183</td>\n",
       "    </tr>\n",
       "    <tr>\n",
       "      <th>2023</th>\n",
       "      <td>CONSTRUCTION</td>\n",
       "      <td>SENIOR PROJECT MANAGER       Professi...</td>\n",
       "      <td>senior project manager professional summary am...</td>\n",
       "      <td>senior project manager professional summary am...</td>\n",
       "      <td>(senior, project, manager, professional, summa...</td>\n",
       "      <td>[management, marketing, development, communica...</td>\n",
       "      <td>[finance, marketing, construction, education, ...</td>\n",
       "      <td>688</td>\n",
       "      <td>6.476744</td>\n",
       "      <td>324</td>\n",
       "      <td>0.470930</td>\n",
       "    </tr>\n",
       "    <tr>\n",
       "      <th>1360</th>\n",
       "      <td>CHEF</td>\n",
       "      <td>CHEF       Summary     Experienced ca...</td>\n",
       "      <td>chef summary experienced catering chef skilled...</td>\n",
       "      <td>chef summary experience catering chef skille p...</td>\n",
       "      <td>(chef, summary, experienced, catering, chef, s...</td>\n",
       "      <td>[management]</td>\n",
       "      <td>[business, retail]</td>\n",
       "      <td>180</td>\n",
       "      <td>5.911111</td>\n",
       "      <td>102</td>\n",
       "      <td>0.566667</td>\n",
       "    </tr>\n",
       "    <tr>\n",
       "      <th>2186</th>\n",
       "      <td>BANKING</td>\n",
       "      <td>OPERATIONS MANAGER       Summary    E...</td>\n",
       "      <td>operations manager summary experienced client ...</td>\n",
       "      <td>operation manager summary experience client se...</td>\n",
       "      <td>(operations, manager, summary, experienced, cl...</td>\n",
       "      <td>[management, sales, development, communication]</td>\n",
       "      <td>[education, business, sales, legal]</td>\n",
       "      <td>602</td>\n",
       "      <td>6.523256</td>\n",
       "      <td>296</td>\n",
       "      <td>0.491694</td>\n",
       "    </tr>\n",
       "  </tbody>\n",
       "</table>\n",
       "</div>"
      ],
      "text/plain": [
       "           Category                                             resume  \\\n",
       "420         TEACHER             Kpandipou    Koffi         Summary ...   \n",
       "1309  DIGITAL-MEDIA           DIRECTOR OF DIGITAL TRANSFORMATION   ...   \n",
       "2023   CONSTRUCTION           SENIOR PROJECT MANAGER       Professi...   \n",
       "1360           CHEF           CHEF       Summary     Experienced ca...   \n",
       "2186        BANKING           OPERATIONS MANAGER       Summary    E...   \n",
       "\n",
       "                                           resume_clean  \\\n",
       "420   kpandipou koffi summary compassionate teaching...   \n",
       "1309  director of digital transformation executive p...   \n",
       "2023  senior project manager professional summary am...   \n",
       "1360  chef summary experienced catering chef skilled...   \n",
       "2186  operations manager summary experienced client ...   \n",
       "\n",
       "                                resume_clean_lemmatized  \\\n",
       "420   kpandipou koffi summary compassionate teaching...   \n",
       "1309  director digital transformation executive prof...   \n",
       "2023  senior project manager professional summary am...   \n",
       "1360  chef summary experience catering chef skille p...   \n",
       "2186  operation manager summary experience client se...   \n",
       "\n",
       "                                    resume_clean_tokens  \\\n",
       "420   (kpandipou, koffi, summary, compassionate, tea...   \n",
       "1309  (director, of, digital, transformation, execut...   \n",
       "2023  (senior, project, manager, professional, summa...   \n",
       "1360  (chef, summary, experienced, catering, chef, s...   \n",
       "2186  (operations, manager, summary, experienced, cl...   \n",
       "\n",
       "                                          resume_skills  \\\n",
       "420   [management, marketing, design, communication,...   \n",
       "1309  [management, marketing, design, development, l...   \n",
       "2023  [management, marketing, development, communica...   \n",
       "1360                                       [management]   \n",
       "2186    [management, sales, development, communication]   \n",
       "\n",
       "                                         resume_domains  resume_text_length  \\\n",
       "420                    [education, business, marketing]                 675   \n",
       "1309             [education, tech, business, marketing]                 845   \n",
       "2023  [finance, marketing, construction, education, ...                 688   \n",
       "1360                                 [business, retail]                 180   \n",
       "2186                [education, business, sales, legal]                 602   \n",
       "\n",
       "      resume_avg_word_length  resume_unique_word_count  \\\n",
       "420                 6.591111                       378   \n",
       "1309                5.733728                       339   \n",
       "2023                6.476744                       324   \n",
       "1360                5.911111                       102   \n",
       "2186                6.523256                       296   \n",
       "\n",
       "      resume_lexical_diversity  \n",
       "420                   0.560000  \n",
       "1309                  0.401183  \n",
       "2023                  0.470930  \n",
       "1360                  0.566667  \n",
       "2186                  0.491694  "
      ]
     },
     "execution_count": 20,
     "metadata": {},
     "output_type": "execute_result"
    }
   ],
   "source": [
    "resume_df.head()"
   ]
  },
  {
   "cell_type": "markdown",
   "id": "3cd1c7b0-c85e-456b-8ee2-188508497e07",
   "metadata": {},
   "source": [
    "---"
   ]
  },
  {
   "cell_type": "markdown",
   "id": "16459045-0163-4eac-ba2e-eba27b800e7f",
   "metadata": {},
   "source": [
    "## **3. Job Listings EDA**"
   ]
  },
  {
   "cell_type": "code",
   "execution_count": null,
   "id": "39fc21e3-6f2c-434f-b5aa-f64589af334b",
   "metadata": {},
   "outputs": [],
   "source": [
    "stop"
   ]
  },
  {
   "cell_type": "markdown",
   "id": "cd65586d-54b8-4cb9-8757-1c90cf476ac6",
   "metadata": {},
   "source": [
    "---"
   ]
  },
  {
   "cell_type": "markdown",
   "id": "bfd96ae4-0638-4170-93a3-141566cf80c1",
   "metadata": {},
   "source": [
    "## **4. Resume EDA**"
   ]
  },
  {
   "cell_type": "code",
   "execution_count": null,
   "id": "bee980c2-d1ab-48b8-a332-de6e3b2d2758",
   "metadata": {},
   "outputs": [],
   "source": [
    "# Use all cores\n",
    "results = Parallel(n_jobs=-1)(\n",
    "    delayed(generate_wordcloud_from_df)(df_categories[i], categories[i])\n",
    "    for i in range(len(categories))\n",
    ")"
   ]
  },
  {
   "cell_type": "code",
   "execution_count": null,
   "id": "b8b7c7de-93db-41e5-8b7b-b9d8fc1ffb55",
   "metadata": {},
   "outputs": [],
   "source": [
    "resume_df['Category'].value_counts().sort_index().plot(kind='bar', figsize=(12, 6))\n",
    "plt.show()"
   ]
  },
  {
   "cell_type": "code",
   "execution_count": null,
   "id": "d392a7dd-109e-46c4-825e-b430a612f94b",
   "metadata": {},
   "outputs": [],
   "source": [
    "plt.figure(figsize=(32, 28))\n",
    "\n",
    "for i, (category, wc) in enumerate(results):\n",
    "    plt.subplot(6, 4, i + 1).set_title(category)\n",
    "    plt.imshow(wc)\n",
    "    plt.axis('off')\n",
    "\n",
    "plt.tight_layout()\n",
    "plt.show()"
   ]
  },
  {
   "cell_type": "code",
   "execution_count": null,
   "id": "22a9ef75-f29e-47ba-a786-5b86a0679933",
   "metadata": {},
   "outputs": [],
   "source": [
    "fig = plt.figure(figsize=(32, 64))\n",
    "\n",
    "for i, category in enumerate(categories):\n",
    "    wf = wordfreq(df_categories[i])\n",
    "\n",
    "    fig.add_subplot(12, 2, i + 1).set_title(category)\n",
    "    plt.bar(wf['Word'], wf['Frequency'])\n",
    "    plt.ylim(0, 1500)\n",
    "\n",
    "plt.show()"
   ]
  },
  {
   "cell_type": "markdown",
   "id": "6751f684-248b-4977-84d9-c79b5231bf90",
   "metadata": {},
   "source": [
    "---"
   ]
  },
  {
   "cell_type": "markdown",
   "id": "6edac1dd-5ab9-4496-95c2-8015b493eed2",
   "metadata": {},
   "source": [
    "## **5. Comparison**"
   ]
  },
  {
   "cell_type": "code",
   "execution_count": null,
   "id": "95d9e8d2-dbce-4d12-8d18-591df1faafc6",
   "metadata": {},
   "outputs": [],
   "source": []
  },
  {
   "cell_type": "markdown",
   "id": "63ca8dd7-ca7f-4c31-8ffb-b3011f3f2e66",
   "metadata": {},
   "source": [
    "---"
   ]
  },
  {
   "cell_type": "markdown",
   "id": "f3829d02-a1e5-4d2a-9670-4fc6a58dcadd",
   "metadata": {},
   "source": [
    "## **6. Conclusion and Insights**"
   ]
  },
  {
   "cell_type": "markdown",
   "id": "7045122b-c1ba-415b-b25b-9b4d114e4c6c",
   "metadata": {},
   "source": []
  }
 ],
 "metadata": {
  "kernelspec": {
   "display_name": "Python 3 (ipykernel)",
   "language": "python",
   "name": "python3"
  },
  "language_info": {
   "codemirror_mode": {
    "name": "ipython",
    "version": 3
   },
   "file_extension": ".py",
   "mimetype": "text/x-python",
   "name": "python",
   "nbconvert_exporter": "python",
   "pygments_lexer": "ipython3",
   "version": "3.12.10"
  }
 },
 "nbformat": 4,
 "nbformat_minor": 5
}
